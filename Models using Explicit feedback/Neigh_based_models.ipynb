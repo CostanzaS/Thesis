{
  "nbformat": 4,
  "nbformat_minor": 0,
  "metadata": {
    "kernelspec": {
      "display_name": "Python 3",
      "language": "python",
      "name": "python3"
    },
    "language_info": {
      "codemirror_mode": {
        "name": "ipython",
        "version": 3
      },
      "file_extension": ".py",
      "mimetype": "text/x-python",
      "name": "python",
      "nbconvert_exporter": "python",
      "pygments_lexer": "ipython3",
      "version": "3.7.3"
    },
    "colab": {
      "name": "Neigh_based models.ipynb",
      "provenance": []
    }
  },
  "cells": [
    {
      "cell_type": "code",
      "metadata": {
        "id": "DwQh3RtcDf7f",
        "colab_type": "code",
        "colab": {
          "base_uri": "https://localhost:8080/",
          "height": 122
        },
        "outputId": "588fbaff-beb9-443b-b100-2ff613c5e211"
      },
      "source": [
        "from google.colab import drive\n",
        "drive.mount('/content/drive')"
      ],
      "execution_count": null,
      "outputs": [
        {
          "output_type": "stream",
          "text": [
            "Go to this URL in a browser: https://accounts.google.com/o/oauth2/auth?client_id=947318989803-6bn6qk8qdgf4n4g3pfee6491hc0brc4i.apps.googleusercontent.com&redirect_uri=urn%3aietf%3awg%3aoauth%3a2.0%3aoob&response_type=code&scope=email%20https%3a%2f%2fwww.googleapis.com%2fauth%2fdocs.test%20https%3a%2f%2fwww.googleapis.com%2fauth%2fdrive%20https%3a%2f%2fwww.googleapis.com%2fauth%2fdrive.photos.readonly%20https%3a%2f%2fwww.googleapis.com%2fauth%2fpeopleapi.readonly\n",
            "\n",
            "Enter your authorization code:\n",
            "··········\n",
            "Mounted at /content/drive\n"
          ],
          "name": "stdout"
        }
      ]
    },
    {
      "cell_type": "code",
      "metadata": {
        "id": "fQmN_RfIC9fD",
        "colab_type": "code",
        "colab": {
          "base_uri": "https://localhost:8080/",
          "height": 34
        },
        "outputId": "e190973f-51e9-4a8d-e775-3ec045ad4c70"
      },
      "source": [
        "# import surprise\n",
        "import numpy as np\n",
        "import pandas as pd\n",
        "import time\n",
        "from sklearn.model_selection import train_test_split\n",
        "from sklearn.neighbors import NearestNeighbors\n",
        "\n",
        "from sklearn.metrics import mean_squared_error\n",
        "from sklearn.metrics import mean_absolute_error\n",
        "\n",
        "from math import sqrt\n",
        "\n",
        "#from sklearn import datasets, linear_model\n",
        "%cd /content/drive/My Drive/Colab Notebooks/Thesis"
      ],
      "execution_count": null,
      "outputs": [
        {
          "output_type": "stream",
          "text": [
            "/content/drive/My Drive/Colab Notebooks/Thesis\n"
          ],
          "name": "stdout"
        }
      ]
    },
    {
      "cell_type": "code",
      "metadata": {
        "id": "K1FNy1lzC9fM",
        "colab_type": "code",
        "colab": {}
      },
      "source": [
        "ratings_file = './ml-latest-small/ratings.csv'"
      ],
      "execution_count": null,
      "outputs": []
    },
    {
      "cell_type": "code",
      "metadata": {
        "id": "_W85WwvHC9fR",
        "colab_type": "code",
        "colab": {
          "base_uri": "https://localhost:8080/",
          "height": 204
        },
        "outputId": "9c28bf80-96a6-4172-c739-b6529b59f3e4"
      },
      "source": [
        "header = ['userId', 'movieId', 'rating','timestamp']\n",
        "df=pd.read_csv('ml-latest-small/ratings.csv')\n",
        "df = df.drop(['timestamp'],axis =1)\n",
        "df.head()\n",
        "# df.shape"
      ],
      "execution_count": null,
      "outputs": [
        {
          "output_type": "execute_result",
          "data": {
            "text/html": [
              "<div>\n",
              "<style scoped>\n",
              "    .dataframe tbody tr th:only-of-type {\n",
              "        vertical-align: middle;\n",
              "    }\n",
              "\n",
              "    .dataframe tbody tr th {\n",
              "        vertical-align: top;\n",
              "    }\n",
              "\n",
              "    .dataframe thead th {\n",
              "        text-align: right;\n",
              "    }\n",
              "</style>\n",
              "<table border=\"1\" class=\"dataframe\">\n",
              "  <thead>\n",
              "    <tr style=\"text-align: right;\">\n",
              "      <th></th>\n",
              "      <th>userId</th>\n",
              "      <th>movieId</th>\n",
              "      <th>rating</th>\n",
              "    </tr>\n",
              "  </thead>\n",
              "  <tbody>\n",
              "    <tr>\n",
              "      <th>0</th>\n",
              "      <td>1</td>\n",
              "      <td>1</td>\n",
              "      <td>4.0</td>\n",
              "    </tr>\n",
              "    <tr>\n",
              "      <th>1</th>\n",
              "      <td>1</td>\n",
              "      <td>3</td>\n",
              "      <td>4.0</td>\n",
              "    </tr>\n",
              "    <tr>\n",
              "      <th>2</th>\n",
              "      <td>1</td>\n",
              "      <td>6</td>\n",
              "      <td>4.0</td>\n",
              "    </tr>\n",
              "    <tr>\n",
              "      <th>3</th>\n",
              "      <td>1</td>\n",
              "      <td>47</td>\n",
              "      <td>5.0</td>\n",
              "    </tr>\n",
              "    <tr>\n",
              "      <th>4</th>\n",
              "      <td>1</td>\n",
              "      <td>50</td>\n",
              "      <td>5.0</td>\n",
              "    </tr>\n",
              "  </tbody>\n",
              "</table>\n",
              "</div>"
            ],
            "text/plain": [
              "   userId  movieId  rating\n",
              "0       1        1     4.0\n",
              "1       1        3     4.0\n",
              "2       1        6     4.0\n",
              "3       1       47     5.0\n",
              "4       1       50     5.0"
            ]
          },
          "metadata": {
            "tags": []
          },
          "execution_count": 4
        }
      ]
    },
    {
      "cell_type": "code",
      "metadata": {
        "id": "6gHoaF9MC9fV",
        "colab_type": "code",
        "colab": {
          "base_uri": "https://localhost:8080/",
          "height": 34
        },
        "outputId": "e289429a-9b79-4cb1-a251-959b2c4b7033"
      },
      "source": [
        "n_users = df.userId.unique().shape[0]\n",
        "n_movies = df.movieId.unique().shape[0]\n",
        "\n",
        "print ('num of users = ' + str(n_users)+ '| num of movies = ' + str(n_movies))"
      ],
      "execution_count": null,
      "outputs": [
        {
          "output_type": "stream",
          "text": [
            "num of users = 610| num of movies = 9724\n"
          ],
          "name": "stdout"
        }
      ]
    },
    {
      "cell_type": "code",
      "metadata": {
        "id": "dw4T2No8C9fa",
        "colab_type": "code",
        "colab": {
          "base_uri": "https://localhost:8080/",
          "height": 34
        },
        "outputId": "90f2e516-f898-4453-8fcd-5dde437af670"
      },
      "source": [
        "df.movieId.unique().shape"
      ],
      "execution_count": null,
      "outputs": [
        {
          "output_type": "execute_result",
          "data": {
            "text/plain": [
              "(9724,)"
            ]
          },
          "metadata": {
            "tags": []
          },
          "execution_count": 6
        }
      ]
    },
    {
      "cell_type": "code",
      "metadata": {
        "id": "gWuron-nC9fe",
        "colab_type": "code",
        "colab": {}
      },
      "source": [
        "## Movies ids are not consequtive nor incremental. The next cell fails because although here are \n",
        "## 9724 movies, there are ids with larger numbers, for example:\n",
        "###userId        105.0\n",
        "###movieId    175401.0\n",
        "###rating          4.0\n",
        "\n",
        "#movie ids need to be fixed"
      ],
      "execution_count": null,
      "outputs": []
    },
    {
      "cell_type": "code",
      "metadata": {
        "scrolled": true,
        "id": "Qh2wWZM7C9fl",
        "colab_type": "code",
        "colab": {}
      },
      "source": [
        "#create ids for movies\n",
        "moviesids = df[['movieId']].drop_duplicates()\n",
        "moviesids = moviesids.sort_values(by='movieId')\n",
        "\n",
        "#s = pd.Series(moviesids.movieId.values.tolist())\n",
        "moviesids['mid'] = range(0, len(moviesids))\n",
        "moviesids['mid'] = moviesids['mid']+1\n",
        "# moviesids"
      ],
      "execution_count": null,
      "outputs": []
    },
    {
      "cell_type": "code",
      "metadata": {
        "id": "A7-_kwgRC9fq",
        "colab_type": "code",
        "colab": {}
      },
      "source": [
        "df = pd.merge(df,moviesids[['movieId','mid']],on='movieId',how='left')\n",
        "# df"
      ],
      "execution_count": null,
      "outputs": []
    },
    {
      "cell_type": "code",
      "metadata": {
        "id": "mWoc5WpZC9fu",
        "colab_type": "code",
        "colab": {}
      },
      "source": [
        "df = df.drop(columns=['movieId'])\n",
        "df = df.rename(index=str,columns={'mid':'movieId'})\n",
        "# df"
      ],
      "execution_count": null,
      "outputs": []
    },
    {
      "cell_type": "code",
      "metadata": {
        "id": "ZNHbnG9aC9fw",
        "colab_type": "code",
        "colab": {}
      },
      "source": [
        "# https://towardsdatascience.com/how-to-build-a-simple-recommender-system-in-python-375093c3fb7d\n",
        "movie_titles = pd.read_csv('ml-latest-small/movies.csv')\n",
        "# movie_titles.head()"
      ],
      "execution_count": null,
      "outputs": []
    },
    {
      "cell_type": "code",
      "metadata": {
        "id": "hjtcwaDEC9f1",
        "colab_type": "code",
        "colab": {}
      },
      "source": [
        "df = pd.merge(df, movie_titles, on='movieId')\n",
        "# df.head()"
      ],
      "execution_count": null,
      "outputs": []
    },
    {
      "cell_type": "markdown",
      "metadata": {
        "id": "wHd3YIqF1WHR",
        "colab_type": "text"
      },
      "source": [
        "### Dataset analysis/exploration"
      ]
    },
    {
      "cell_type": "code",
      "metadata": {
        "id": "viyR5-rIC9f7",
        "colab_type": "code",
        "colab": {}
      },
      "source": [
        "ratings = pd.DataFrame(df.groupby('title')['rating'].mean())\n",
        "# ratings.head()"
      ],
      "execution_count": null,
      "outputs": []
    },
    {
      "cell_type": "code",
      "metadata": {
        "id": "I0t1a3olC9f-",
        "colab_type": "code",
        "colab": {}
      },
      "source": [
        "ratings['number_of_ratings'] = df.groupby('title')['rating'].count()\n",
        "# ratings.head()"
      ],
      "execution_count": null,
      "outputs": []
    },
    {
      "cell_type": "code",
      "metadata": {
        "id": "NtDGSB4BC9gA",
        "colab_type": "code",
        "colab": {}
      },
      "source": [
        "# import matplotlib.pyplot as plt\n",
        "# %matplotlib inline\n",
        "# ratings['rating'].hist(bins=50)"
      ],
      "execution_count": null,
      "outputs": []
    },
    {
      "cell_type": "code",
      "metadata": {
        "id": "lSuz-mEmC9gC",
        "colab_type": "code",
        "colab": {}
      },
      "source": [
        "# ratings['number_of_ratings'].hist(bins=60)"
      ],
      "execution_count": null,
      "outputs": []
    },
    {
      "cell_type": "code",
      "metadata": {
        "id": "GSBWhz9fC9gE",
        "colab_type": "code",
        "colab": {}
      },
      "source": [
        "# import seaborn as sns\n",
        "# sns.jointplot(x='rating', y='number_of_ratings', data=ratings)\n"
      ],
      "execution_count": null,
      "outputs": []
    },
    {
      "cell_type": "code",
      "metadata": {
        "id": "YPTtfhHLC9gG",
        "colab_type": "code",
        "colab": {}
      },
      "source": [
        "# #location and amount of missing values\n",
        "# missing_df = pd.DataFrame(df.isnull().sum()).T\n",
        "# missing_df"
      ],
      "execution_count": null,
      "outputs": []
    },
    {
      "cell_type": "code",
      "metadata": {
        "id": "JkWonXUBC9gJ",
        "colab_type": "code",
        "colab": {}
      },
      "source": [
        "# create utility matrix\n",
        "movie_matrix = df.pivot_table(index='userId', columns='title', values='rating').fillna(0)\n",
        "# movie_matrix.head()"
      ],
      "execution_count": null,
      "outputs": []
    },
    {
      "cell_type": "code",
      "metadata": {
        "id": "OwUjXQMpC9gL",
        "colab_type": "code",
        "colab": {}
      },
      "source": [
        "# #location and amount of missing values\n",
        "# missing_df = pd.DataFrame(movie_matrix.isnull().sum()).T\n",
        "# missing_df"
      ],
      "execution_count": null,
      "outputs": []
    },
    {
      "cell_type": "code",
      "metadata": {
        "id": "pk4ySt8NC9gN",
        "colab_type": "code",
        "colab": {}
      },
      "source": [
        "# ratings.sort_values('number_of_ratings', ascending=False).head(10)"
      ],
      "execution_count": null,
      "outputs": []
    },
    {
      "cell_type": "code",
      "metadata": {
        "id": "Wz3matZiC9gP",
        "colab_type": "code",
        "colab": {}
      },
      "source": [
        "# specialist_user_rating = movie_matrix['Specialist, The (1994)']\n",
        "# specialist_user_rating.head()"
      ],
      "execution_count": null,
      "outputs": []
    },
    {
      "cell_type": "code",
      "metadata": {
        "id": "smqlb08CC9gR",
        "colab_type": "code",
        "colab": {}
      },
      "source": [
        "# corr_movie = pd.DataFrame(similar_to_currentmovie, columns=['Correlation'])\n",
        "# corr_movie.dropna(inplace=True)\n",
        "# # corr_movie.head()\n",
        "\n",
        "# corr_movie = corr_movie.join(ratings['number_of_ratings'])\n",
        "# corr_movie.head()"
      ],
      "execution_count": null,
      "outputs": []
    },
    {
      "cell_type": "markdown",
      "metadata": {
        "id": "AnIX9KGKC9gU",
        "colab_type": "text"
      },
      "source": [
        "## cross validation train test split"
      ]
    },
    {
      "cell_type": "code",
      "metadata": {
        "id": "ZNSB3S9gC9gV",
        "colab_type": "code",
        "colab": {}
      },
      "source": [
        "train_data, test_data = train_test_split(movie_matrix,test_size=0.25)"
      ],
      "execution_count": null,
      "outputs": []
    },
    {
      "cell_type": "code",
      "metadata": {
        "id": "RPKC66hFC9gW",
        "colab_type": "code",
        "colab": {
          "base_uri": "https://localhost:8080/",
          "height": 34
        },
        "outputId": "0d2fad03-c855-436b-b6c0-5149a556cbc1"
      },
      "source": [
        "train_data.shape"
      ],
      "execution_count": null,
      "outputs": [
        {
          "output_type": "execute_result",
          "data": {
            "text/plain": [
              "(457, 5401)"
            ]
          },
          "metadata": {
            "tags": []
          },
          "execution_count": 69
        }
      ]
    },
    {
      "cell_type": "code",
      "metadata": {
        "id": "P4N_3ZnB15Z0",
        "colab_type": "code",
        "colab": {
          "base_uri": "https://localhost:8080/",
          "height": 34
        },
        "outputId": "4693324e-a05d-4799-af0e-f6a8f9f16e16"
      },
      "source": [
        "test_data.shape\n"
      ],
      "execution_count": null,
      "outputs": [
        {
          "output_type": "execute_result",
          "data": {
            "text/plain": [
              "(153, 5401)"
            ]
          },
          "metadata": {
            "tags": []
          },
          "execution_count": 70
        }
      ]
    },
    {
      "cell_type": "markdown",
      "metadata": {
        "id": "V-0k5nw4C9ga",
        "colab_type": "text"
      },
      "source": [
        "###  Top K - KNN Predictions"
      ]
    },
    {
      "cell_type": "code",
      "metadata": {
        "id": "Ux2JmMyCC9ga",
        "colab_type": "code",
        "colab": {
          "base_uri": "https://localhost:8080/",
          "height": 68
        },
        "outputId": "91f58e58-145f-448b-9c17-d44d03587efd"
      },
      "source": [
        "from sklearn.neighbors import NearestNeighbors\n",
        "\n",
        "model_knn = NearestNeighbors(metric = 'cosine',n_neighbors=10, algorithm = 'brute')\n",
        "model_knn.fit(movie_matrix)"
      ],
      "execution_count": null,
      "outputs": [
        {
          "output_type": "execute_result",
          "data": {
            "text/plain": [
              "NearestNeighbors(algorithm='brute', leaf_size=30, metric='cosine',\n",
              "                 metric_params=None, n_jobs=None, n_neighbors=10, p=2,\n",
              "                 radius=1.0)"
            ]
          },
          "metadata": {
            "tags": []
          },
          "execution_count": 71
        }
      ]
    },
    {
      "cell_type": "code",
      "metadata": {
        "scrolled": true,
        "id": "a581fJToC9gc",
        "colab_type": "code",
        "colab": {}
      },
      "source": [
        "# # https://towardsdatascience.com/how-did-we-build-book-recommender-systems-in-an-hour-part-2-k-nearest-neighbors-and-matrix-c04b3c2ef55c\n",
        "# query_index = np.random.choice(movie_matrix.shape[0])\n",
        "# distances, indices = model_knn.kneighbors(movie_matrix.iloc[query_index, :].values.reshape(1, -1), n_neighbors = 10)\n",
        "\n",
        "# for i in range(0, len(distances.flatten())):\n",
        "#     if i == 0:\n",
        "#         print('Recommendations for {0}:\\n'.format(movie_matrix.index[query_index]))\n",
        "#     else:\n",
        "#         print('{0}: {1}, with distance of {2}:'.format(i, movie_matrix.index[indices.flatten()[i]], distances.flatten()[i]))"
      ],
      "execution_count": null,
      "outputs": []
    },
    {
      "cell_type": "markdown",
      "metadata": {
        "id": "Gdx5VoIgC9ge",
        "colab_type": "text"
      },
      "source": [
        "### User- and Item-based CF"
      ]
    },
    {
      "cell_type": "code",
      "metadata": {
        "id": "00fndVcvC9gg",
        "colab_type": "code",
        "colab": {}
      },
      "source": [
        "def fast_similarity(ratings, kind='user', epsilon=1e-9):\n",
        "    # epsilon -> small number for handling dived-by-zero errors\n",
        "    if kind == 'user':\n",
        "        sim = ratings.dot(ratings.T) + epsilon\n",
        "    elif kind == 'item':\n",
        "        sim = ratings.T.dot(ratings) + epsilon\n",
        "    norms = np.array([np.sqrt(np.diagonal(sim))])\n",
        "    return (sim / norms / norms.T)"
      ],
      "execution_count": null,
      "outputs": []
    },
    {
      "cell_type": "code",
      "metadata": {
        "id": "wg4v_bJ_C9gh",
        "colab_type": "code",
        "colab": {}
      },
      "source": [
        "#the respective matrix must be produced for items\n",
        "similarity_matrix_users = fast_similarity(movie_matrix,kind='user')"
      ],
      "execution_count": null,
      "outputs": []
    },
    {
      "cell_type": "code",
      "metadata": {
        "id": "h4F5u3G_C9gj",
        "colab_type": "code",
        "colab": {}
      },
      "source": [
        "similarity_matrix_items = fast_similarity(movie_matrix,kind='item')"
      ],
      "execution_count": null,
      "outputs": []
    },
    {
      "cell_type": "code",
      "metadata": {
        "id": "VYGk_4OqC9gk",
        "colab_type": "code",
        "colab": {}
      },
      "source": [
        "#source: https://www.ethanrosenthal.com/2015/11/02/intro-to-collaborative-filtering/\n",
        "def predict_topk(ratings, similarity1, kind='user', k=40):\n",
        "    # start_pred = time.time()\n",
        "    col_names = ratings.columns.tolist()\n",
        "    user_names = ratings.index.to_list()\n",
        "    similarity = similarity1.to_numpy()\n",
        "    pred = np.zeros(ratings.shape)\n",
        "    k=k+1\n",
        "    if kind == 'user':\n",
        "        for i in range(ratings.shape[0]):\n",
        "            top_k_users = [np.argsort(similarity[:,i])[:-k-1:-1]]\n",
        "            for j in range(ratings.shape[1]):\n",
        "                ################\n",
        "                pred[i, j] = similarity[i, :][top_k_users].dot(ratings.to_numpy()[:, j][top_k_users]) \n",
        "                ## The command above did not work. The solution below however, takes a lot of time to complete\n",
        "                ## If it takes too long on your laptop, you should fix this\n",
        "                # jname = col_names[j]\n",
        "                # dotar = np.zeros(k)\n",
        "                # c=0\n",
        "                # for us in top_k_users[0]:\n",
        "                #     val = ratings.loc[user_names[us],jname]\n",
        "                #     dotar[c]=val\n",
        "                #     c+=1\n",
        "                # ## validate?\n",
        "                # ################\n",
        "                # pred[i, j] = similarity[i, :][top_k_users].dot(dotar) \n",
        "                pred[i, j] /= np.sum(np.abs(similarity[i, :][top_k_users]))\n",
        "\n",
        "                # print(\"user_time_prediction\",time.time()-start_pred) \n",
        "    if kind == 'item':\n",
        "        for j in range(ratings.shape[1]):\n",
        "            top_k_items = [np.argsort(similarity[:,j])[:-k-1:-1]]\n",
        "            for i in range(ratings.shape[0]):\n",
        "                ################\n",
        "                pred[i, j] = similarity[j, :][top_k_items].dot(ratings.to_numpy()[i, :][top_k_items].T) \n",
        "                # The command above did not work. The solution below however, takes a lot of time to complete\n",
        "                # If it takes too long on your laptop, you should fix this\n",
        "                # dotvar = np.zeros(k)\n",
        "                # c=0\n",
        "                # for it in top_k_items[0]:\n",
        "                #     val = ratings.loc[user_names[i],col_names[it]]\n",
        "                #     dotvar[c]=val\n",
        "                #     c+=1\n",
        "                # ## validate?\n",
        "                # ################\n",
        "                # pred[i, j] = similarity[j, :][top_k_items].dot(dotvar.T) \n",
        "                \n",
        "                pred[i, j] /= np.sum(np.abs(similarity[j, :][top_k_items])) \n",
        "                # print(\"item _time_prediction\",time.time()-start_pred)       \n",
        "    \n",
        "    return pred"
      ],
      "execution_count": null,
      "outputs": []
    },
    {
      "cell_type": "code",
      "metadata": {
        "id": "AYNcBeBXC9gm",
        "colab_type": "code",
        "colab": {}
      },
      "source": [
        "k = 100"
      ],
      "execution_count": null,
      "outputs": []
    },
    {
      "cell_type": "code",
      "metadata": {
        "scrolled": true,
        "id": "dyFpTKgtC9gn",
        "colab_type": "code",
        "colab": {
          "base_uri": "https://localhost:8080/",
          "height": 105
        },
        "outputId": "0a7c84a1-06f5-4449-e5cc-4c2e406926b0"
      },
      "source": [
        "start_pred = time.time()\n",
        "predicted_values_users = predict_topk(movie_matrix,similarity_matrix_users,'user',k)\n",
        "end_user_pred = time.time()-start_pred\n",
        "print(\"user_time_prediction\",end_user_pred)"
      ],
      "execution_count": null,
      "outputs": [
        {
          "output_type": "stream",
          "text": [
            "/usr/local/lib/python3.6/dist-packages/ipykernel_launcher.py:14: FutureWarning: Using a non-tuple sequence for multidimensional indexing is deprecated; use `arr[tuple(seq)]` instead of `arr[seq]`. In the future this will be interpreted as an array index, `arr[np.array(seq)]`, which will result either in an error or a different result.\n",
            "  \n",
            "/usr/local/lib/python3.6/dist-packages/ipykernel_launcher.py:27: FutureWarning: Using a non-tuple sequence for multidimensional indexing is deprecated; use `arr[tuple(seq)]` instead of `arr[seq]`. In the future this will be interpreted as an array index, `arr[np.array(seq)]`, which will result either in an error or a different result.\n"
          ],
          "name": "stderr"
        },
        {
          "output_type": "stream",
          "text": [
            "user_time_prediction 80.88796830177307\n"
          ],
          "name": "stdout"
        }
      ]
    },
    {
      "cell_type": "code",
      "metadata": {
        "scrolled": true,
        "id": "TR_WiB6AC9go",
        "colab_type": "code",
        "colab": {
          "base_uri": "https://localhost:8080/",
          "height": 88
        },
        "outputId": "449d9ac7-1377-4895-8265-042184c994dd"
      },
      "source": [
        "start=time.time()\n",
        "predicted_values_items = predict_topk(movie_matrix,similarity_matrix_items,'item',k)\n",
        "end_item_pred = time.time()-start\n",
        "print(\"item _time_prediction\",end_item_pred)   "
      ],
      "execution_count": null,
      "outputs": [
        {
          "output_type": "stream",
          "text": [
            "/usr/local/lib/python3.6/dist-packages/ipykernel_launcher.py:35: FutureWarning: Using a non-tuple sequence for multidimensional indexing is deprecated; use `arr[tuple(seq)]` instead of `arr[seq]`. In the future this will be interpreted as an array index, `arr[np.array(seq)]`, which will result either in an error or a different result.\n",
            "/usr/local/lib/python3.6/dist-packages/ipykernel_launcher.py:48: FutureWarning: Using a non-tuple sequence for multidimensional indexing is deprecated; use `arr[tuple(seq)]` instead of `arr[seq]`. In the future this will be interpreted as an array index, `arr[np.array(seq)]`, which will result either in an error or a different result.\n"
          ],
          "name": "stderr"
        },
        {
          "output_type": "stream",
          "text": [
            "item _time_prediction 88.318195104599\n"
          ],
          "name": "stdout"
        }
      ]
    },
    {
      "cell_type": "code",
      "metadata": {
        "scrolled": true,
        "id": "EhvGwSNKC9gq",
        "colab_type": "code",
        "colab": {}
      },
      "source": [
        "tst = movie_matrix.copy()\n",
        "tst.insert(0, 'order', range(0, 0 + len(tst)))\n",
        "tst = tst[['order']]\n",
        "tst = tst.reset_index()\n",
        "\n",
        "movietst = pd.DataFrame(movie_matrix.columns)\n",
        "movietst.insert(0, 'order', range(0, 0 + len(movietst)))\n",
        "\n",
        "results_users= pd.DataFrame()\n",
        "\n",
        "results_items = pd.DataFrame()\n",
        "\n",
        "for index,row in test_data.iterrows():\n",
        "    usr_tst = pd.DataFrame(row)\n",
        "    #remove the non zero ratings of this user\n",
        "    usr_tst = usr_tst[usr_tst[index]>0]\n",
        "    order_of_index= tst.loc[tst['userId']==index,'order'].values.tolist()[0]\n",
        "    #predicted ratings\n",
        "    for index1,row1 in usr_tst.iterrows():\n",
        "        order_of_index1= movietst.loc[movietst['title']==index1,'order'].values.tolist()[0]\n",
        "        predicted_user = predicted_values_users[order_of_index,order_of_index1]\n",
        "        real_value = row1[index]\n",
        "    \n",
        "        predicted_item = predicted_values_items[order_of_index,order_of_index1]\n",
        "        \n",
        "        results_users = results_users.append({'user':index,\n",
        "                                 'item':index1,\n",
        "                                 'predicted':predicted_user,\n",
        "                                 'real_value':real_value},ignore_index=True)\n",
        "        \n",
        "        results_items = results_items.append({'user':index,\n",
        "                                 'item':index1,\n",
        "                                 'predicted':predicted_item,\n",
        "                                 'real_value':real_value},ignore_index=True)"
      ],
      "execution_count": null,
      "outputs": []
    },
    {
      "cell_type": "code",
      "metadata": {
        "id": "YVh1qY2RC9gr",
        "colab_type": "code",
        "colab": {
          "base_uri": "https://localhost:8080/",
          "height": 51
        },
        "outputId": "8529c7f7-a955-4213-d657-0f71238bbd8f"
      },
      "source": [
        "start_res = time.time()\n",
        "results_users= results_users.drop_duplicates()\n",
        "end_user_res = time.time()-start_res\n",
        "print(\"user _time_prediction\",end_user_res) \n",
        "\n",
        "results_items= results_items.drop_duplicates()\n",
        "end_item_res = time.time()-start_res\n",
        "print(\"item _time_prediction\",end_item_res) "
      ],
      "execution_count": null,
      "outputs": [
        {
          "output_type": "stream",
          "text": [
            "user _time_prediction 0.016565799713134766\n",
            "item _time_prediction 0.027730941772460938\n"
          ],
          "name": "stdout"
        }
      ]
    },
    {
      "cell_type": "markdown",
      "metadata": {
        "id": "s8v_qxVBKp8R",
        "colab_type": "text"
      },
      "source": [
        "##MAE"
      ]
    },
    {
      "cell_type": "code",
      "metadata": {
        "id": "PBsEwnznKn1g",
        "colab_type": "code",
        "colab": {}
      },
      "source": [
        "print('user-based CF MAE:'+str(mean_absolute_error(results_users.predicted.values.tolist(),results_users.real_value.values.tolist())))"
      ],
      "execution_count": null,
      "outputs": []
    },
    {
      "cell_type": "code",
      "metadata": {
        "id": "PVGavK0yLXKJ",
        "colab_type": "code",
        "colab": {}
      },
      "source": [
        "print('item-based CF MAE:'+str(mean_absolute_error(results_items.predicted.values.tolist(),results_items.real_value.values.tolist())))"
      ],
      "execution_count": null,
      "outputs": []
    },
    {
      "cell_type": "code",
      "metadata": {
        "id": "cjOVoQnKC9gs",
        "colab_type": "code",
        "colab": {}
      },
      "source": [
        "# print('user-based CF MSE:'+str(mean_squared_error(results_users.predicted.values.tolist(),results_users.real_value.values.tolist())))\n"
      ],
      "execution_count": null,
      "outputs": []
    },
    {
      "cell_type": "code",
      "metadata": {
        "id": "Hn5qM8EvC9gt",
        "colab_type": "code",
        "colab": {}
      },
      "source": [
        "# print('item-based CF MSE:'+str(mean_squared_error(results_items.predicted.values.tolist(),results_items.real_value.values.tolist())))"
      ],
      "execution_count": null,
      "outputs": []
    },
    {
      "cell_type": "markdown",
      "metadata": {
        "id": "0suAjK4rC9gu",
        "colab_type": "text"
      },
      "source": [
        "## RMSE"
      ]
    },
    {
      "cell_type": "code",
      "metadata": {
        "id": "rcG8nirZC9gv",
        "colab_type": "code",
        "colab": {}
      },
      "source": [
        "rmseval = sqrt(mean_squared_error(results_users.real_value.values.tolist(), results_users.predicted.values.tolist()))\n",
        "print('user-based CF RMSE: '+ str(rmseval))"
      ],
      "execution_count": null,
      "outputs": []
    },
    {
      "cell_type": "code",
      "metadata": {
        "id": "PMZOmTLJC9gw",
        "colab_type": "code",
        "colab": {}
      },
      "source": [
        "rmsevalitem = sqrt(mean_squared_error(results_items.real_value.values.tolist(), results_items.predicted.values.tolist()))\n",
        "print('item-based CF RMSE: '+ str(rmsevalitem))"
      ],
      "execution_count": null,
      "outputs": []
    },
    {
      "cell_type": "code",
      "metadata": {
        "id": "Bysj871OxNb2",
        "colab_type": "code",
        "colab": {}
      },
      "source": [
        ""
      ],
      "execution_count": null,
      "outputs": []
    }
  ]
}
