{
 "cells": [
  {
   "cell_type": "markdown",
   "metadata": {},
   "source": [
    "## WRMF"
   ]
  },
  {
   "cell_type": "markdown",
   "metadata": {},
   "source": [
    "https://github.com/Coder-Yu/RecQ"
   ]
  },
  {
   "cell_type": "code",
   "execution_count": null,
   "metadata": {},
   "outputs": [
    {
     "name": "stdout",
     "output_type": "stream",
     "text": [
      "================================================================================\n",
      "   RecQ: An effective python-based recommender algorithm library.   )\n",
      "================================================================================\n",
      "0. Analyze the input data.(Configure the visual.conf in config/visual first.)\n",
      "--------------------------------------------------------------------------------\n",
      "Generic Recommenders:\n",
      "6. PMF            7. SVD++          8. EE             9. BPR             10. WRMF\n",
      "================================================================================\n",
      "please enter the num of the algorithm to run it:10\n",
      "config file is not in the correct format! Error Line:11\n",
      "loading training data...\n",
      "Reading data and preprocessing...\n",
      "Algorithm: WRMF\n",
      "Ratings dataset: /Users/cochisiani/Downloads/RecQ-master/hetrec2011-lastfm-2k/user_artists.dat\n",
      "Training set size: (user count: 1887, item count 12898, record count: 55829)\n",
      "Test set size: (user count: 1882, item count 5270, record count: 13958)\n",
      "================================================================================\n",
      "Reduced Dimension: 10\n",
      "Maximum Iteration: 7\n",
      "Regularization parameter: regU 1.000, regI 0.020, regB 0.020\n",
      "================================================================================\n",
      "Initializing model [1]...\n",
      "Building Model [1]...\n",
      "training...\n",
      "iteration: 1 loss: 43407507.80049585\n",
      "iteration: 2 loss: 52993.05035482299\n",
      "iteration: 3 loss: 29900.06751990419\n",
      "iteration: 4 loss: 27740.21794534374\n",
      "iteration: 5 loss: 26925.852079255903\n"
     ]
    }
   ],
   "source": [
    "import sys\n",
    "sys.path.append(\"..\")\n",
    "from RecQ import RecQ\n",
    "from tool.config import Config\n",
    "#from visual.display import Display\n",
    "\n",
    "\n",
    "\n",
    "if __name__ == '__main__':\n",
    "\n",
    "    print ('='*80)\n",
    "    print ('   RecQ: An effective python-based recommender algorithm library.   )')\n",
    "    print ('='*80)\n",
    "    print ('0. Analyze the input data.(Configure the visual.conf in config/visual first.)')\n",
    "    print ('-' * 80)\n",
    "    print ('Generic Recommenders:')\n",
    "#     print ('1. UserKNN        2. ItemKNN        3. BasicMF        4. SlopeOne        5. SVD')\n",
    "    print ('6. PMF            7. SVD++          8. EE             9. BPR             10. WRMF')\n",
    "#     print ('11. ExpoMF')\n",
    "\n",
    "#     print ('Social Recommenders:')\n",
    "#     print ('s1. RSTE          s2. SoRec         s3. SoReg         s4. SocialMF       s5. SBPR')\n",
    "#     print ('s6. SREE          s7. LOCABAL       s8. SocialFD      s9. TBPR           s10. SERec')\n",
    "\n",
    "#     print ('Network Embedding based Recommenders:')\n",
    "#     print '(a1. CoFactor      a2. CUNE-MF       a3. CUNE-BPR      a4. IF-BPR')\n",
    "\n",
    "#     print ('Deep Recommenders:')\n",
    "#     print ('d1. APR           d2. CDAE          d3. DMF           d4. NeuMF           d5. CFGAN')\n",
    "#     print ('d6. IRGAN         d7. RSGAN         d8. NGCF          d9. LightGCN        d10. ESRF')\n",
    "\n",
    "#     print ('Baselines:')\n",
    "#     print ('b1. UserMean      b2. ItemMean      b3. MostPopular   b4. Rand')\n",
    "\n",
    "\n",
    "    print ('='*80)\n",
    "    algor = -1\n",
    "    conf = -1\n",
    "    order = input('please enter the num of the algorithm to run it:')\n",
    "    import time\n",
    "    s = time.time()\n",
    "    # if order == '0':\n",
    "    #     try:\n",
    "    #         import seaborn as sns\n",
    "    #     except ImportError:\n",
    "    #         print '!!!To obtain nice data charts, ' \\\n",
    "    #               'we strongly recommend you to install the third-party package <seaborn>!!!'\n",
    "    #     conf = Config('../config/visual/visual.conf')\n",
    "    #     Display(conf).render()\n",
    "    #     exit(0)\n",
    "\n",
    "    algorthms = {'1':'UserKNN','2':'ItemKNN','3':'BasicMF','4':'SlopeOne','5':'SVD','6':'PMF',\n",
    "                 '7':'SVD++','8':'EE','9':'BPR','10':'WRMF','11':'ExpoMF',\n",
    "                 's1':'RSTE','s2':'SoRec','s3':'SoReg','s4':'SocialMF','s5':'SBPR','s6':'SREE',\n",
    "                 's7':'LOCABAL','s8':'SocialFD','s9':'TBPR','s10':'SEREC','a1':'CoFactor',\n",
    "                 'a2':'CUNE_MF','a3':'CUNE_BPR','a4':'IF_BPR',\n",
    "                 'd1':'APR','d2':'CDAE','d3':'DMF','d4':'NeuMF','d5':'CFGAN','d6':'IRGAN','d7':'RSGAN','d8':'NGCF',\n",
    "                 'd9':'LightGCN', 'd10':'ESRF',\n",
    "                 'b1':'UserMean','b2':'ItemMean','b3':'MostPopular','b4':'Rand'}\n",
    "\n",
    "    try:\n",
    "        conf = Config('../config/'+algorthms[order]+'.conf')\n",
    "    except KeyError:\n",
    "        print ('Error num!')\n",
    "        exit(-1)\n",
    "    recSys = RecQ(conf)\n",
    "    recSys.execute()\n",
    "    e = time.time()\n",
    "    print (\"Run time: %f s\" % (e - s))\n",
    "\n"
   ]
  },
  {
   "cell_type": "code",
   "execution_count": null,
   "metadata": {},
   "outputs": [],
   "source": []
  }
 ],
 "metadata": {
  "kernelspec": {
   "display_name": "Python 3",
   "language": "python",
   "name": "python3"
  },
  "language_info": {
   "codemirror_mode": {
    "name": "ipython",
    "version": 3
   },
   "file_extension": ".py",
   "mimetype": "text/x-python",
   "name": "python",
   "nbconvert_exporter": "python",
   "pygments_lexer": "ipython3",
   "version": "3.7.3"
  }
 },
 "nbformat": 4,
 "nbformat_minor": 4
}
